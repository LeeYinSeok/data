{
 "cells": [
  {
   "cell_type": "code",
   "execution_count": 1,
   "id": "1a4dc50e-fa04-40ab-a0c3-e05a3d6fe19b",
   "metadata": {},
   "outputs": [
    {
     "name": "stdout",
     "output_type": "stream",
     "text": [
      "hello world!\n",
      "100\n",
      "3.14\n",
      "My name is Lee Yin Seok!\n"
     ]
    }
   ],
   "source": [
    "\"\"\"\n",
    "print() function\n",
    "\"\"\"\n",
    "\n",
    "print(\"hello world!\")\n",
    "print(100)\n",
    "pi = 3.14\n",
    "print(pi)\n",
    "\n",
    "intro = \"My name is \"\n",
    "name = \"Lee Yin Seok\"\n",
    "print(intro + name + \"!\")"
   ]
  },
  {
   "cell_type": "code",
   "execution_count": 2,
   "id": "bf45448f-dbea-4b19-a679-b9d066432a68",
   "metadata": {},
   "outputs": [
    {
     "name": "stdout",
     "output_type": "stream",
     "text": [
      "내 이름은 Lee Yin Seok입니다.\n",
      "내 이메일은 qlfkslzk@ac.kr입니다.\n",
      "내 전화번호는 010-2144-3758입니다.\n"
     ]
    }
   ],
   "source": [
    "\"\"\"\n",
    "Variables\n",
    "\"\"\"\n",
    "\n",
    "#나를 표현 할 수 있는 정보 세 가지 이상을 변수로 선언하시오.\n",
    "user_name = \"Lee Yin Seok\"\n",
    "user_email = \"qlfkslzk@ac.kr\"\n",
    "user_phone = \"010-2144-3758\"\n",
    "print(\"내 이름은 \" + user_name + \"입니다.\\n내 이메일은 \" + user_email + \"입니다.\\n내 전화번호는 \" + user_phone + \"입니다.\")"
   ]
  },
  {
   "cell_type": "code",
   "execution_count": 3,
   "id": "0b7c15df-d173-42be-8770-9fceff66a2ba",
   "metadata": {},
   "outputs": [
    {
     "name": "stdout",
     "output_type": "stream",
     "text": [
      "x =  1\n",
      "Address of x:  140703247312688\n",
      "x =  2\n",
      "Address of x:  140703247312720\n"
     ]
    }
   ],
   "source": [
    "\"\"\"\n",
    "Variables\n",
    "\"\"\"\n",
    "\n",
    "x = 1\n",
    "print('x = ', x)\n",
    "print(\"Address of x: \", id(x))\n",
    "\n",
    "x = 2 \n",
    "print('x = ', x)\n",
    "print(\"Address of x: \", id(x))"
   ]
  },
  {
   "cell_type": "code",
   "execution_count": 18,
   "id": "c1b5d6aa-0613-4bda-9b08-ed24fa639838",
   "metadata": {},
   "outputs": [
    {
     "name": "stdout",
     "output_type": "stream",
     "text": [
      "휴대폰의 개수 :  3\n",
      "컴퓨터의 개수 :  2\n",
      "시계의 개수 :  4\n"
     ]
    }
   ],
   "source": [
    "\"\"\"\n",
    "Data Types: Integers\n",
    "\"\"\"\n",
    "\n",
    "#집에 있는 세 가지 이상의 사물의 갯수를 정수 변수로 표현하시오.\n",
    "\n",
    "phones = 3\n",
    "computers = 2\n",
    "watchs = 4\n",
    "print('휴대폰의 개수 : ', phones)\n",
    "print('컴퓨터의 개수 : ', computers)\n",
    "print('시계의 개수 : ', watchs)"
   ]
  },
  {
   "cell_type": "code",
   "execution_count": 21,
   "id": "ad437ba9-0793-43b1-9e61-97147969390c",
   "metadata": {},
   "outputs": [],
   "source": [
    "\"\"\"\n",
    "Data Types: Real Numbers\n",
    "\"\"\"\n",
    "\n",
    "#본인이 알고 있는 세 개의 실수를 변수로 정의하시오.\n",
    "PI = 3.14\n"
   ]
  },
  {
   "cell_type": "code",
   "execution_count": 5,
   "id": "01dbb5e9-e47e-4ed2-93f6-8f6dd1162c54",
   "metadata": {
    "tags": []
   },
   "outputs": [
    {
     "name": "stdout",
     "output_type": "stream",
     "text": [
      "<class 'bool'>\n",
      "<class 'str'>\n"
     ]
    }
   ],
   "source": [
    "\"\"\"\n",
    "boolean variables\n",
    "\"\"\"\n",
    "\n",
    "is_tested = False\n",
    "print(type(is_tested))\n",
    "\n",
    "a = \"3.14\"\n",
    "print(type(a))"
   ]
  },
  {
   "cell_type": "code",
   "execution_count": null,
   "id": "33ca2b24-9588-470e-92d1-8e585a43093c",
   "metadata": {},
   "outputs": [],
   "source": []
  }
 ],
 "metadata": {
  "kernelspec": {
   "display_name": "Python 3",
   "language": "python",
   "name": "python3"
  },
  "language_info": {
   "codemirror_mode": {
    "name": "ipython",
    "version": 3
   },
   "file_extension": ".py",
   "mimetype": "text/x-python",
   "name": "python",
   "nbconvert_exporter": "python",
   "pygments_lexer": "ipython3",
   "version": "3.8.8"
  }
 },
 "nbformat": 4,
 "nbformat_minor": 5
}
